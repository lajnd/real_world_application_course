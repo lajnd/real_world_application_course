{
 "cells": [
  {
   "cell_type": "markdown",
   "metadata": {},
   "source": [
    "## Before you start\n",
    "\n",
    "Before going through this - make sure you've gone through the python introdution found here:\n",
    "https://www.analyticsvidhya.com/blog/2017/06/a-comprehensive-guide-for-linear-ridge-and-lasso-regression/\n",
    "\n",
    "To get started in how to use jupyter notebooks - \n",
    "http://nbviewer.jupyter.org/github/jupyter/notebook/blob/master/docs/source/examples/Notebook/Notebook%20Basics.ipynb"
   ]
  },
  {
   "cell_type": "markdown",
   "metadata": {},
   "source": [
    "## Lets load all of the python modules we will need\n",
    "\n",
    "\n",
    "Python makes use of different types of modules/packages (all of the ones you need are included in the Anaconda installation). These packages make python a very easy-to-use, high-level language. \n",
    "\n",
    "One very useful package data structures is pandas (reading in and handling csv-files). For example:\n",
    "\n",
    "```python\n",
    "import pandas\n",
    "```\n",
    "\n",
    "\n",
    "if we now want to use any of the functions within pandas we need to write out the whole name:\n",
    "\n",
    "```python\n",
    "df = pandas.read_csv('path_to_csv.csv')\n",
    "```\n",
    "However, when we we import pandas, and other packages, its quite common to rename them to something smaller:\n",
    "\n",
    "```python\n",
    "import pandas as pd\n",
    "\n",
    "df = pd.read_csv('path_to_csv.csv')\n",
    "```"
   ]
  },
  {
   "cell_type": "code",
   "execution_count": 1,
   "metadata": {},
   "outputs": [],
   "source": [
    "import pandas as pd # pandas is a package for handling data structures\n",
    "import numpy as np # numpy is a useful package for handling arrays and matrices\n",
    "import matplotlib.pyplot as plt # matplotlib we use to plot our results\n",
    "from sklearn.linear_model import Ridge # This is a module for doing Ridge regression\n",
    "from sklearn import linear_model # This is a module for doing a normal linear regression\n",
    "from sklearn.model_selection import cross_val_score # cross_val_score we use to cross-validate our data"
   ]
  },
  {
   "cell_type": "markdown",
   "metadata": {},
   "source": [
    "## By putting a question mark before a class or a function - you'll get the documentation"
   ]
  },
  {
   "cell_type": "code",
   "execution_count": 3,
   "metadata": {},
   "outputs": [],
   "source": [
    "cross_val_score?"
   ]
  },
  {
   "cell_type": "markdown",
   "metadata": {},
   "source": [
    "## Lets start to read in data"
   ]
  },
  {
   "cell_type": "code",
   "execution_count": 2,
   "metadata": {},
   "outputs": [],
   "source": [
    "data_path = 'FootballData_anonymous.csv'\n",
    "# read in file, specify its separated by ','\n",
    "df = pd.read_csv(data_path, sep=',') "
   ]
  },
  {
   "cell_type": "code",
   "execution_count": 60,
   "metadata": {},
   "outputs": [
    {
     "data": {
      "text/html": [
       "<div>\n",
       "<style scoped>\n",
       "    .dataframe tbody tr th:only-of-type {\n",
       "        vertical-align: middle;\n",
       "    }\n",
       "\n",
       "    .dataframe tbody tr th {\n",
       "        vertical-align: top;\n",
       "    }\n",
       "\n",
       "    .dataframe thead th {\n",
       "        text-align: right;\n",
       "    }\n",
       "</style>\n",
       "<table border=\"1\" class=\"dataframe\">\n",
       "  <thead>\n",
       "    <tr style=\"text-align: right;\">\n",
       "      <th></th>\n",
       "      <th>temp_ID</th>\n",
       "      <th>Positie</th>\n",
       "      <th>Been</th>\n",
       "      <th>Team</th>\n",
       "      <th>Datum.test</th>\n",
       "      <th>age</th>\n",
       "      <th>international (0 = no, 1 = yes)</th>\n",
       "      <th>decision (1 = not good enough, 2 = no decision yet, 3 = prof contract)</th>\n",
       "      <th>WM1</th>\n",
       "      <th>WM2</th>\n",
       "      <th>...</th>\n",
       "      <th>ATTENTION_accuracy_no_cue</th>\n",
       "      <th>ATTENTION_accuracy_central_cue</th>\n",
       "      <th>ATTENTION_accuracy_spatial_cue</th>\n",
       "      <th>ATTENTION_accuracy_wrong_spatial_cue</th>\n",
       "      <th>ATTENTION_accuracy_congruent</th>\n",
       "      <th>ATTENTION_accuracy_incongruent</th>\n",
       "      <th>ATTENTION_RT_1__fastest</th>\n",
       "      <th>ATTENTION_CONTROL_RT_1__slowest</th>\n",
       "      <th>ATTENTION_RT_mean</th>\n",
       "      <th>ATTENTION_RT_median</th>\n",
       "    </tr>\n",
       "  </thead>\n",
       "  <tbody>\n",
       "    <tr>\n",
       "      <th>0</th>\n",
       "      <td>809</td>\n",
       "      <td>striker</td>\n",
       "      <td>NaN</td>\n",
       "      <td>O9</td>\n",
       "      <td>21/04/2016</td>\n",
       "      <td>7.51</td>\n",
       "      <td>0</td>\n",
       "      <td>2</td>\n",
       "      <td>5</td>\n",
       "      <td>4</td>\n",
       "      <td>...</td>\n",
       "      <td>0.625000</td>\n",
       "      <td>0.500000</td>\n",
       "      <td>0.633333</td>\n",
       "      <td>0.666667</td>\n",
       "      <td>0.574468</td>\n",
       "      <td>0.615385</td>\n",
       "      <td>0.290432</td>\n",
       "      <td>1.082922</td>\n",
       "      <td>0.797782</td>\n",
       "      <td>0.824023</td>\n",
       "    </tr>\n",
       "    <tr>\n",
       "      <th>1</th>\n",
       "      <td>718</td>\n",
       "      <td>attackingmidfield</td>\n",
       "      <td>NaN</td>\n",
       "      <td>O9</td>\n",
       "      <td>15/04/2016</td>\n",
       "      <td>7.89</td>\n",
       "      <td>0</td>\n",
       "      <td>2</td>\n",
       "      <td>7</td>\n",
       "      <td>5</td>\n",
       "      <td>...</td>\n",
       "      <td>0.703704</td>\n",
       "      <td>0.840909</td>\n",
       "      <td>0.901961</td>\n",
       "      <td>1.000000</td>\n",
       "      <td>0.933333</td>\n",
       "      <td>0.771429</td>\n",
       "      <td>0.519570</td>\n",
       "      <td>1.083709</td>\n",
       "      <td>0.830930</td>\n",
       "      <td>0.823541</td>\n",
       "    </tr>\n",
       "    <tr>\n",
       "      <th>2</th>\n",
       "      <td>791</td>\n",
       "      <td>winger</td>\n",
       "      <td>NaN</td>\n",
       "      <td>O9</td>\n",
       "      <td>04/05/2016</td>\n",
       "      <td>7.99</td>\n",
       "      <td>0</td>\n",
       "      <td>2</td>\n",
       "      <td>5</td>\n",
       "      <td>6</td>\n",
       "      <td>...</td>\n",
       "      <td>0.444444</td>\n",
       "      <td>0.441176</td>\n",
       "      <td>0.571429</td>\n",
       "      <td>0.466667</td>\n",
       "      <td>0.537037</td>\n",
       "      <td>0.439394</td>\n",
       "      <td>0.015145</td>\n",
       "      <td>1.096220</td>\n",
       "      <td>0.721437</td>\n",
       "      <td>0.794637</td>\n",
       "    </tr>\n",
       "    <tr>\n",
       "      <th>3</th>\n",
       "      <td>716</td>\n",
       "      <td>attackingmidfield</td>\n",
       "      <td>NaN</td>\n",
       "      <td>O9</td>\n",
       "      <td>15/04/2016</td>\n",
       "      <td>8.01</td>\n",
       "      <td>0</td>\n",
       "      <td>2</td>\n",
       "      <td>4</td>\n",
       "      <td>4</td>\n",
       "      <td>...</td>\n",
       "      <td>0.682927</td>\n",
       "      <td>0.657143</td>\n",
       "      <td>0.821429</td>\n",
       "      <td>0.714286</td>\n",
       "      <td>0.800000</td>\n",
       "      <td>0.625000</td>\n",
       "      <td>0.025799</td>\n",
       "      <td>1.083294</td>\n",
       "      <td>0.828518</td>\n",
       "      <td>0.839516</td>\n",
       "    </tr>\n",
       "    <tr>\n",
       "      <th>4</th>\n",
       "      <td>764</td>\n",
       "      <td>striker</td>\n",
       "      <td>NaN</td>\n",
       "      <td>O9</td>\n",
       "      <td>18/04/2016</td>\n",
       "      <td>8.11</td>\n",
       "      <td>0</td>\n",
       "      <td>2</td>\n",
       "      <td>5</td>\n",
       "      <td>5</td>\n",
       "      <td>...</td>\n",
       "      <td>0.617647</td>\n",
       "      <td>0.461538</td>\n",
       "      <td>0.750000</td>\n",
       "      <td>0.571429</td>\n",
       "      <td>0.821429</td>\n",
       "      <td>0.421875</td>\n",
       "      <td>0.013351</td>\n",
       "      <td>1.084168</td>\n",
       "      <td>0.870777</td>\n",
       "      <td>0.871292</td>\n",
       "    </tr>\n",
       "  </tbody>\n",
       "</table>\n",
       "<p>5 rows × 61 columns</p>\n",
       "</div>"
      ],
      "text/plain": [
       "   temp_ID            Positie Been Team  Datum.test   age  \\\n",
       "0      809            striker  NaN   O9  21/04/2016  7.51   \n",
       "1      718  attackingmidfield  NaN   O9  15/04/2016  7.89   \n",
       "2      791             winger  NaN   O9  04/05/2016  7.99   \n",
       "3      716  attackingmidfield  NaN   O9  15/04/2016  8.01   \n",
       "4      764            striker  NaN   O9  18/04/2016  8.11   \n",
       "\n",
       "   international (0 = no, 1 = yes)  \\\n",
       "0                                0   \n",
       "1                                0   \n",
       "2                                0   \n",
       "3                                0   \n",
       "4                                0   \n",
       "\n",
       "   decision (1 = not good enough, 2 = no decision yet, 3 = prof contract)  \\\n",
       "0                                                  2                        \n",
       "1                                                  2                        \n",
       "2                                                  2                        \n",
       "3                                                  2                        \n",
       "4                                                  2                        \n",
       "\n",
       "   WM1  WM2         ...           ATTENTION_accuracy_no_cue  \\\n",
       "0    5    4         ...                            0.625000   \n",
       "1    7    5         ...                            0.703704   \n",
       "2    5    6         ...                            0.444444   \n",
       "3    4    4         ...                            0.682927   \n",
       "4    5    5         ...                            0.617647   \n",
       "\n",
       "   ATTENTION_accuracy_central_cue  ATTENTION_accuracy_spatial_cue  \\\n",
       "0                        0.500000                        0.633333   \n",
       "1                        0.840909                        0.901961   \n",
       "2                        0.441176                        0.571429   \n",
       "3                        0.657143                        0.821429   \n",
       "4                        0.461538                        0.750000   \n",
       "\n",
       "   ATTENTION_accuracy_wrong_spatial_cue  ATTENTION_accuracy_congruent  \\\n",
       "0                              0.666667                      0.574468   \n",
       "1                              1.000000                      0.933333   \n",
       "2                              0.466667                      0.537037   \n",
       "3                              0.714286                      0.800000   \n",
       "4                              0.571429                      0.821429   \n",
       "\n",
       "   ATTENTION_accuracy_incongruent  ATTENTION_RT_1__fastest  \\\n",
       "0                        0.615385                 0.290432   \n",
       "1                        0.771429                 0.519570   \n",
       "2                        0.439394                 0.015145   \n",
       "3                        0.625000                 0.025799   \n",
       "4                        0.421875                 0.013351   \n",
       "\n",
       "   ATTENTION_CONTROL_RT_1__slowest  ATTENTION_RT_mean  ATTENTION_RT_median  \n",
       "0                         1.082922           0.797782             0.824023  \n",
       "1                         1.083709           0.830930             0.823541  \n",
       "2                         1.096220           0.721437             0.794637  \n",
       "3                         1.083294           0.828518             0.839516  \n",
       "4                         1.084168           0.870777             0.871292  \n",
       "\n",
       "[5 rows x 61 columns]"
      ]
     },
     "execution_count": 60,
     "metadata": {},
     "output_type": "execute_result"
    }
   ],
   "source": [
    "# We can check the 5 first rows of the data by printing the \"head\" of the dataframe\n",
    "df.head()"
   ]
  },
  {
   "cell_type": "markdown",
   "metadata": {},
   "source": [
    "## Rows and columns\n",
    "A data frame consists of rows and columns. We can have a look at the size of these by using \"shape\".\n",
    "\n",
    "The first dimension defines the number of rows and the second dimension defines the number of columns"
   ]
  },
  {
   "cell_type": "code",
   "execution_count": 5,
   "metadata": {},
   "outputs": [
    {
     "name": "stdout",
     "output_type": "stream",
     "text": [
      "Data has 1086 rows and 61 columns!\n"
     ]
    }
   ],
   "source": [
    "# now when the data is loaded we can have a look at the shape \n",
    "n_rows, n_cols = df.shape\n",
    "print(f'Data has {n_rows} rows and {n_cols} columns!')"
   ]
  },
  {
   "cell_type": "code",
   "execution_count": 8,
   "metadata": {},
   "outputs": [
    {
     "name": "stdout",
     "output_type": "stream",
     "text": [
      "0 temp_ID\n",
      "1 Positie\n",
      "2 Been\n",
      "3 Team\n",
      "4 Datum.test\n",
      "5 age\n",
      "6 international (0 = no, 1 = yes)\n",
      "7 decision (1 = not good enough, 2 = no decision yet, 3 = prof contract)\n",
      "8 WM1\n",
      "9 WM2\n",
      "10 WM3\n",
      "11 WM4\n",
      "12 WM5\n",
      "13 WM6\n",
      "14 WM7\n",
      "15 WM8\n",
      "16 ANTICIPATION_totaltime_gameplayed\n",
      "17 ANTICIPATION_timeuntilchallenge\n",
      "18 ANTICIPATION_timeinchallenge\n",
      "19 ANTICIPATION_pointspersecond\n",
      "20 CONTROL_accuracy_repeat_2trials\n",
      "21 CONTROL_accuracy_repeat_3trials\n",
      "22 CONTROL_accuracy_repeat_4trials\n",
      "23 CONTROL_accuracy_repeat_5trials\n",
      "24 CONTROL_RT_repeat_2trials\n",
      "25 CONTROL_RT_repeat_3trials\n",
      "26 CONTROL_RT_repeat_4trials\n",
      "27 CONTROL_RT_repeat_5trials\n",
      "28 CONTROL_RT_repeat_correct_2trials\n",
      "29 CONTROL_RT_repeat_correct_3trials\n",
      "30 CONTROL_RT_repeat_correct_4trials\n",
      "31 CONTROL_RT_repeat_correct_5trials\n",
      "32 CONTROL_accuracy_noswitch\n",
      "33 CONTROL_accuracy_motorswitch\n",
      "34 CONTROL_accuracy_categoryswitch\n",
      "35 CONTROL_RTe_noswitch\n",
      "36 CONTROL_RTe_motorswitch\n",
      "37 CONTROL_RTe_categoryswitch\n",
      "38 CONTROL_RTcorrect_noswitch\n",
      "39 CONTROL_RTcorrect_motorswitch\n",
      "40 CONTROL_RTcorrect_categoryswitch\n",
      "41 CONTROL_RT_1__fastest\n",
      "42 CONTROL_CONTROL_RT_1__slowest\n",
      "43 CONTROL_RT_mean\n",
      "44 CONTROL_RT_median\n",
      "45 ATTENTION_RT_no_cue\n",
      "46 ATTENTION_RT_central_cue\n",
      "47 ATTENTION_RT_spatial_cue\n",
      "48 ATTENTION_RT_wrong_spatial_cue\n",
      "49 ATTENTION_RT_congruent\n",
      "50 ATTENTION_RT_incongruent\n",
      "51 ATTENTION_accuracy_no_cue\n",
      "52 ATTENTION_accuracy_central_cue\n",
      "53 ATTENTION_accuracy_spatial_cue\n",
      "54 ATTENTION_accuracy_wrong_spatial_cue\n",
      "55 ATTENTION_accuracy_congruent\n",
      "56 ATTENTION_accuracy_incongruent\n",
      "57 ATTENTION_RT_1__fastest\n",
      "58 ATTENTION_CONTROL_RT_1__slowest\n",
      "59 ATTENTION_RT_mean\n",
      "60 ATTENTION_RT_median\n"
     ]
    }
   ],
   "source": [
    "# lets print out all of the columns, and their index\n",
    "for i, col in enumerate(df.columns):\n",
    "    print(i, col)"
   ]
  },
  {
   "cell_type": "markdown",
   "metadata": {},
   "source": [
    "## Selecting data\n",
    "There are several ways to select the columns you are interested in - One convenient way is by using iloc, where define the position of the rows and columns you are interested in."
   ]
  },
  {
   "cell_type": "code",
   "execution_count": 4,
   "metadata": {},
   "outputs": [],
   "source": [
    "# We want to predict WM1 based on the result of WM2-8 \n",
    "# We can see on the values we printed above that VM1 is column 8 and VM2-8 are columns 9-15\n",
    "# However, in python, we start counting at the first value and stop, without including, the last value\n",
    "# so column 9-15 becomes 9:16\n",
    "\n",
    "# X, by convention, are your predictive values\n",
    "X = df.iloc[:, 9:16].values\n",
    "# y, by convention, is what you are trying to predict\n",
    "y = df.iloc[:, 8].values"
   ]
  },
  {
   "cell_type": "markdown",
   "metadata": {},
   "source": [
    "## Prediction\n",
    "To predict we can use multiple models, however, we are just going to start to show you Ridge. \n",
    "When using models from sci-kit learn, we always first have to create an instance of the class:\n",
    "```python\n",
    "clf = Ridge(alpha=10)\n",
    "```\n",
    "\n",
    "The alpha here corresponds to the \"lambda\" of the model, or, \"how much will we try to restrict the beta-values from becoming too big\""
   ]
  },
  {
   "cell_type": "code",
   "execution_count": 5,
   "metadata": {},
   "outputs": [
    {
     "name": "stdout",
     "output_type": "stream",
     "text": [
      "Mean R^2: 0.342841674065689\n"
     ]
    }
   ],
   "source": [
    "clf = Ridge(alpha=10)\n",
    "\n",
    "# The cross_val_score expects first the classifier, then your predictors and then the values you want to predict\n",
    "# We also define that we wannt 10 folds (train on 90% of the data, test on 10% and do this 10 times), and that \n",
    "# we want to score the performance by using R^2\n",
    "res = cross_val_score(clf, X, y, cv=10, scoring='r2')\n",
    "print(f'Mean R^2: {res.mean()}')"
   ]
  },
  {
   "cell_type": "markdown",
   "metadata": {},
   "source": [
    "## Question\n",
    "So what is happening here?\n",
    "\n",
    "The cross_val_score is doing all of your cross-validating for you. Let see if we can do this by hand. Go through the code line by line, make sure you understand what is going on"
   ]
  },
  {
   "cell_type": "code",
   "execution_count": 26,
   "metadata": {},
   "outputs": [
    {
     "name": "stdout",
     "output_type": "stream",
     "text": [
      "We are splitting data in 10 splits\n",
      "Mean R^2: 0.342841674065689\n"
     ]
    }
   ],
   "source": [
    "from sklearn.model_selection import KFold # import a k-fold module\n",
    "from sklearn.metrics import r2_score # for scoring\n",
    "\n",
    "# define your classifier\n",
    "clf = Ridge(alpha=10)\n",
    "# start (make an instance of) your KFold class, we are splitting the data 90/10 ten times\n",
    "kf = KFold(n_splits=10)\n",
    "print(f'We are splitting data in {kf.get_n_splits(X, y)} splits')\n",
    "\n",
    "# This is were we store our scores for each loop \n",
    "scores = []\n",
    "# Loop over the data split created by kf.split(X, y)\n",
    "for train_index, test_index in kf.split(X, y):\n",
    "    X_train, X_test = X[train_index], X[test_index]\n",
    "    y_train, y_test = y[train_index], y[test_index]\n",
    "    \n",
    "    # Fit the training data\n",
    "    clf.fit(X_train, y_train)\n",
    "    \n",
    "    # predict the test data\n",
    "    predictions = clf.predict(X_test)\n",
    "    score = r2_score(y_test, predictions)\n",
    "    \n",
    "    # Add the score to the scores-list\n",
    "    scores.append(score)\n",
    "    \n",
    "\n",
    "print(f'Mean R^2: {np.mean(scores)}')"
   ]
  },
  {
   "cell_type": "markdown",
   "metadata": {},
   "source": [
    "As you can see, this is equivalent to just be using cross_val_score(clf, X, y, cv=10, scoring='r2'). "
   ]
  },
  {
   "cell_type": "markdown",
   "metadata": {},
   "source": [
    "## Generalizable code\n",
    "By the magic of python its easy to swap out your model (in this case Ridge) to any other model. The only thing we need to do is to change the clf:"
   ]
  },
  {
   "cell_type": "code",
   "execution_count": 72,
   "metadata": {},
   "outputs": [
    {
     "name": "stdout",
     "output_type": "stream",
     "text": [
      "Mean R^2: 0.34280\n"
     ]
    }
   ],
   "source": [
    "clf = linear_model.LinearRegression()\n",
    "res = cross_val_score(clf, X, y, cv=10, scoring='r2')\n",
    "print(f'Mean R^2: {res.mean():.5f}')"
   ]
  },
  {
   "cell_type": "markdown",
   "metadata": {},
   "source": [
    "# Plot\n",
    "We can also quickly plot the relationship between variables. For example below, we look at the relationship between WM1 and WM2"
   ]
  },
  {
   "cell_type": "code",
   "execution_count": 30,
   "metadata": {},
   "outputs": [
    {
     "data": {
      "image/png": "[encoded data removed]",
      "text/plain": [
       "<matplotlib.figure.Figure at 0x11b236390>"
      ]
     },
     "metadata": {},
     "output_type": "display_data"
    }
   ],
   "source": [
    "WM1 = df.iloc[:, 8].values\n",
    "WMx = df.iloc[:, 9].values\n",
    "# lets plot\n",
    "# The first argument will be the x-values, and the second will be the y-values\n",
    "plt.scatter(WM1, WMx)\n",
    "# lets add name for our x axis\n",
    "plt.xlabel('WM 1', size=15)\n",
    "# lets add name for our y axis\n",
    "plt.ylabel('WM x', size=15)\n",
    "# This is how we add a title in matplotlib\n",
    "plt.title('Scatter plot showing the relationship\\nbetween two working memory tasks', size=15)\n",
    "plt.show()\n",
    "\n"
   ]
  },
  {
   "cell_type": "markdown",
   "metadata": {},
   "source": [
    "# Exercise\n",
    "\n",
    "See if you can find any neurolympics variables that can predict age"
   ]
  },
  {
   "cell_type": "code",
   "execution_count": null,
   "metadata": {},
   "outputs": [],
   "source": [
    "# Do it here"
   ]
  }
 ],
 "metadata": {
  "kernelspec": {
   "display_name": "Python 3",
   "language": "python",
   "name": "python3"
  },
  "language_info": {
   "codemirror_mode": {
    "name": "ipython",
    "version": 3
   },
   "file_extension": ".py",
   "mimetype": "text/x-python",
   "name": "python",
   "nbconvert_exporter": "python",
   "pygments_lexer": "ipython3",
   "version": "3.6.0"
  }
 },
 "nbformat": 4,
 "nbformat_minor": 2
}
